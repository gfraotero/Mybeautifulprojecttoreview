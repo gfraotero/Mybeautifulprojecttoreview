{
 "cells": [
  {
   "cell_type": "markdown",
   "metadata": {},
   "source": [
    "<center>\n",
    "    <img src=\"https://cf-courses-data.s3.us.cloud-object-storage.appdomain.cloud/IBMDeveloperSkillsNetwork-DS0105EN-SkillsNetwork/labs/Module2/images/SN_web_lightmode.png\" width=\"300\" alt=\"cognitiveclass.ai logo\">\n",
    "</center>\n"
   ]
  },
  {
   "cell_type": "markdown",
   "metadata": {},
   "source": [
    "#### Add your code below following the instructions given in the course\n"
   ]
  },
  {
   "cell_type": "markdown",
   "metadata": {},
   "source": [
    "# Jupyterlite Notebook on Skills Network labs\n"
   ]
  },
  {
   "cell_type": "markdown",
   "metadata": {
    "tags": []
   },
   "source": [
    "# Introduction\n",
    "\n",
    "This notebook is designed to provide an overview of using language for data analysis. \n",
    "Throughout this notebook, we will explore various data analysis techniques, visualization.\n",
    "Let's embark on our data analysis journey!"
   ]
  },
  {
   "cell_type": "markdown",
   "metadata": {},
   "source": [
    "# Data Science Languages\n",
    "\n",
    "In the field of data science, several programming languages are commonly used for various tasks such as data analysis, visualization, and machine learning. Here are some of the most popular languages:\n",
    "\n",
    "- **Python**: Widely used for data analysis and machine learning due to its extensive libraries and community support.\n",
    "- **R**: A statistical programming language specifically designed for data analysis and visualization.\n",
    "- **SQL**: Essential for managing and querying relational databases.\n",
    "\n",
    "These languages each have their strengths and are chosen based on the specific needs of a data science project."
   ]
  },
  {
   "cell_type": "markdown",
   "metadata": {},
   "source": [
    "# Data Science Libraries\n",
    "\n",
    "Data science libraries provide pre-built functions and tools that facilitate data manipulation, analysis, and visualization. Here are some widely used libraries in the field of data science:\n",
    "\n",
    "## Python Libraries\n",
    "- **Pandas**: A powerful data manipulation and analysis library for handling structured data.\n",
    "- **NumPy**: A library for numerical computing, providing support for arrays and matrices.\n",
    "- **Matplotlib**: A plotting library for creating static, interactive, and animated visualizations in Python.\n",
    "\n",
    "## R Libraries\n",
    "- **ggplot2**: A system for declaratively creating graphics, based on The Grammar of Graphics.\n",
    "- **dplyr**: A grammar of data manipulation, providing a consistent set of verbs to help you solve the most common data manipulation challenges.\n",
    "\n",
    "## Other Notable Libraries\n",
    "- **TensorFlow**: An open-source library for machine learning and deep learning.\n",
    "- **Apache Spark**: A unified analytics engine for large-scale data processing, with built-in modules for streaming, SQL, machine learning, and graph processing.\n"
   ]
  },
  {
   "cell_type": "markdown",
   "metadata": {},
   "source": [
    "# Data Science Tools\n",
    "\n",
    "The following table lists various data science tools:\n",
    "\n",
    "| Tool              | Description                                         | Language        |\n",
    "|-------------------|-----------------------------------------------------|------------------|\n",
    "| **Jupyter Notebook** | An interactive environment for creating and sharing documents with live code, equations, and visualizations. | Python, R        |\n",
    "| **RStudio**        | An integrated development environment (IDE) for R that provides a user-friendly interface for statistical computing. | R                |\n",
    "|| **Tableau**        | A powerful data visualization tool that helps in creating interactive and shareable dashboards. | N/A              |\n",
    "| **Power BI**       | A business analytics tool by Microsoft that provides interactive visualizations and business intelligence capabilities. | N/A              |\n",
    "| **Scikit-learn**   | A Python library for machine learning that features various classification, regression, and clustering algorithms. | Python           |\n",
    "| **TensorFlow**     | An open-source framework for building and training machine learning models, especially deep learning. | Python           |\n",
    "| **Hadoop**         | A framework that allows for the distributed processing of large data sets across clusters of computers. | Java              |\n",
    "\n",
    "\n",
    "These tools play a vital role in the data science workflow, from data collection and cleaning to analysis and visualization."
   ]
  },
  {
   "cell_type": "markdown",
   "metadata": {},
   "source": [
    "# Introduction to Arithmetic Expressions\n",
    "\n",
    "In this section, we will explore basic arithmetic operations, which include:\n",
    "\n",
    "- **Addition (`+`)**: Combines two values to produce their sum.\n",
    "- **Subtraction (`-`)**: Calculates the difference between two values.\n",
    "- **Multiplication (`*`)**: Multiplies two values to produce their product.\n",
    "- **Division (`/`)**: Divides one value by another to produce the quotient.\n",
    "- **Modulus (`%`)**: Returns the remainder of a division operation.\n",
    "\n",
    "### Examples\n",
    "\n",
    "1. **Addition**: \n",
    "   - Expression: `5 + 3`\n",
    "   - Result: `8`\n",
    "\n",
    "2. **Subtraction**: \n",
    "   - Expression: `10 - 4`\n",
    "   - Result: `6`\n",
    "\n",
    "3. **Multiplication**: \n",
    "   - Expression: `7 * 2`\n",
    "   - Result: `14`\n",
    "\n",
    "4. **Division**: \n",
    "   - Expression: `20 / 5`\n",
    "   - Result: `4`\n",
    "\n",
    "5. **Modulus**: \n",
    "   - Expression: `15 % 4`\n",
    "   - Result: `3`\n"
   ]
  },
  {
   "cell_type": "code",
   "execution_count": 2,
   "metadata": {
    "tags": []
   },
   "outputs": [
    {
     "name": "stdout",
     "output_type": "stream",
     "text": [
      "Multiplication of 5 and 3 is: 15\n",
      "Addition of 15 and 2 is: 17\n"
     ]
    }
   ],
   "source": [
    "# Multiplying and Adding Numbers\n",
    "\n",
    "# Define the numbers\n",
    "a = 5\n",
    "b = 3\n",
    "c = 2\n",
    "\n",
    "# Perform multiplication\n",
    "multiplication_result = a * b\n",
    "\n",
    "# Perform addition\n",
    "addition_result = multiplication_result + c\n",
    "\n",
    "# Display the results\n",
    "print(f\"Multiplication of {a} and {b} is: {multiplication_result}\")\n",
    "print(f\"Addition of {multiplication_result} and {c} is: {addition_result}\")\n"
   ]
  },
  {
   "cell_type": "code",
   "execution_count": 4,
   "metadata": {
    "tags": []
   },
   "outputs": [
    {
     "name": "stdout",
     "output_type": "stream",
     "text": [
      "240 minutes is equal to 4.0 hours.\n"
     ]
    }
   ],
   "source": [
    "# Convert Minutes to Hours\n",
    "\n",
    "# Function to convert minutes to hours\n",
    "def convert_minutes_to_hours(minutes):\n",
    "    hours = minutes / 60\n",
    "    return hours\n",
    "\n",
    "# Example: Convert 120 minutes to hours\n",
    "minutes_input = 240\n",
    "hours_output = convert_minutes_to_hours(minutes_input)\n",
    "\n",
    "# Display the result\n",
    "print(f\"{minutes_input} minutes is equal to {hours_output} hours.\")"
   ]
  },
  {
   "cell_type": "markdown",
   "metadata": {},
   "source": [
    "## Objectives\n",
    "\n",
    "- Understand the fundamentals of Data Science and its importance in various fields.\n",
    "- Learn to work with data science languages such as Python and R.\n",
    "- Explore popular data science libraries.\n",
    "- Gain proficiency in using tools for data manipulation, analysis, and visualization.\n",
    "- Develop skills to analyze and interpret data effectively."
   ]
  },
  {
   "cell_type": "markdown",
   "metadata": {
    "tags": []
   },
   "source": [
    "## Author\n",
    "\n",
    "**Name:** Gustav F\n",
    "**Date:** 2024-09-27  \n",
    "**Role:** Data Scientist\n"
   ]
  },
  {
   "cell_type": "code",
   "execution_count": null,
   "metadata": {},
   "outputs": [],
   "source": []
  }
 ],
 "metadata": {
  "kernelspec": {
   "display_name": "Python",
   "language": "python",
   "name": "conda-env-python-py"
  },
  "language_info": {
   "codemirror_mode": {
    "name": "ipython",
    "version": 3
   },
   "file_extension": ".py",
   "mimetype": "text/x-python",
   "name": "python",
   "nbconvert_exporter": "python",
   "pygments_lexer": "ipython3",
   "version": "3.7.12"
  }
 },
 "nbformat": 4,
 "nbformat_minor": 4
}
